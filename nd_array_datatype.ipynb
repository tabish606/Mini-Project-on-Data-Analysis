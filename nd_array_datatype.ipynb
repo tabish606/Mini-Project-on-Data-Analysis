{
 "cells": [
  {
   "cell_type": "code",
   "execution_count": 4,
   "metadata": {},
   "outputs": [
    {
     "name": "stdout",
     "output_type": "stream",
     "text": [
      "int32\n"
     ]
    }
   ],
   "source": [
    "import numpy as np\n",
    "a =  np.array([11,22,23,32])\n",
    "print(a.dtype)"
   ]
  },
  {
   "cell_type": "code",
   "execution_count": 5,
   "metadata": {},
   "outputs": [
    {
     "name": "stdout",
     "output_type": "stream",
     "text": [
      "float64\n"
     ]
    }
   ],
   "source": [
    "b = np.array([11.0,12.0])\n",
    "print(b.dtype)"
   ]
  },
  {
   "cell_type": "code",
   "execution_count": 12,
   "metadata": {},
   "outputs": [
    {
     "name": "stdout",
     "output_type": "stream",
     "text": [
      "int64\n"
     ]
    }
   ],
   "source": [
    "#you can also tell the data types\n",
    "c = np.array([11,12],dtype = np.int64)\n",
    "print(c.dtype)"
   ]
  },
  {
   "cell_type": "code",
   "execution_count": 13,
   "metadata": {},
   "outputs": [
    {
     "name": "stdout",
     "output_type": "stream",
     "text": [
      "int64\n",
      "[11 12]\n"
     ]
    }
   ],
   "source": [
    "# you can also change the type like below similarly in float change may\n",
    "d = np.array([11.1,12.9],dtype = np.int64)\n",
    "print(d.dtype)\n",
    "print(d)"
   ]
  },
  {
   "cell_type": "code",
   "execution_count": 19,
   "metadata": {},
   "outputs": [
    {
     "name": "stdout",
     "output_type": "stream",
     "text": [
      "[[11. 12. 13.]\n",
      " [21. 22. 23.]]\n",
      "\n",
      "[[9 8 7]\n",
      " [1 2 3]]\n"
     ]
    }
   ],
   "source": [
    "import numpy as np\n",
    "x = np.array([[11,12,13],[21,22,23]],dtype = np.float64)\n",
    "y = np.array([[9.9,8.4,7.3],[1.2,2.3,3.4]],dtype = np.int64)\n",
    "print(x)\n",
    "print()\n",
    "print(y)"
   ]
  },
  {
   "cell_type": "code",
   "execution_count": 21,
   "metadata": {},
   "outputs": [
    {
     "name": "stdout",
     "output_type": "stream",
     "text": [
      "[[20. 20. 20.]\n",
      " [22. 24. 26.]]\n",
      "\n",
      "[[20. 20. 20.]\n",
      " [22. 24. 26.]]\n"
     ]
    }
   ],
   "source": [
    "#add\n",
    "print(x + y)\n",
    "print()\n",
    "print(np.add(x,y))"
   ]
  },
  {
   "cell_type": "code",
   "execution_count": 26,
   "metadata": {},
   "outputs": [
    {
     "name": "stdout",
     "output_type": "stream",
     "text": [
      "[[ 2.  4.  6.]\n",
      " [20. 20. 20.]]\n",
      "\n",
      "[[ 2.  4.  6.]\n",
      " [20. 20. 20.]]\n"
     ]
    }
   ],
   "source": [
    "#subtract\n",
    "print(x -y)\n",
    "print()\n",
    "print(np.subtract(x,y))"
   ]
  },
  {
   "cell_type": "code",
   "execution_count": 28,
   "metadata": {},
   "outputs": [
    {
     "name": "stdout",
     "output_type": "stream",
     "text": [
      "[[99. 96. 91.]\n",
      " [21. 44. 69.]]\n",
      "\n",
      "[[99. 96. 91.]\n",
      " [21. 44. 69.]]\n"
     ]
    }
   ],
   "source": [
    "# multiply\n",
    "print(x * y)\n",
    "print()\n",
    "print(np.multiply(x,y))"
   ]
  },
  {
   "cell_type": "code",
   "execution_count": 30,
   "metadata": {},
   "outputs": [
    {
     "name": "stdout",
     "output_type": "stream",
     "text": [
      "[[ 1.22222222  1.5         1.85714286]\n",
      " [21.         11.          7.66666667]]\n",
      "\n",
      "[[ 1.22222222  1.5         1.85714286]\n",
      " [21.         11.          7.66666667]]\n"
     ]
    }
   ],
   "source": [
    "#divide\n",
    "print(x / y)\n",
    "print()\n",
    "print(np.divide(x,y))"
   ]
  },
  {
   "cell_type": "code",
   "execution_count": 32,
   "metadata": {},
   "outputs": [
    {
     "name": "stdout",
     "output_type": "stream",
     "text": [
      "[[3.31662479 3.46410162 3.60555128]\n",
      " [4.58257569 4.69041576 4.79583152]]\n",
      "\n",
      "[[3.         2.82842712 2.64575131]\n",
      " [1.         1.41421356 1.73205081]]\n"
     ]
    }
   ],
   "source": [
    "#square root\n",
    "print(np.sqrt(x))\n",
    "print()\n",
    "print(np.sqrt(y))"
   ]
  },
  {
   "cell_type": "code",
   "execution_count": 33,
   "metadata": {},
   "outputs": [
    {
     "name": "stdout",
     "output_type": "stream",
     "text": [
      "[[5.98741417e+04 1.62754791e+05 4.42413392e+05]\n",
      " [1.31881573e+09 3.58491285e+09 9.74480345e+09]]\n"
     ]
    }
   ],
   "source": [
    "#exponential (e**x)\n",
    "print(np.exp(x))"
   ]
  },
  {
   "cell_type": "code",
   "execution_count": null,
   "metadata": {},
   "outputs": [],
   "source": []
  }
 ],
 "metadata": {
  "kernelspec": {
   "display_name": "Python 3",
   "language": "python",
   "name": "python3"
  },
  "language_info": {
   "codemirror_mode": {
    "name": "ipython",
    "version": 3
   },
   "file_extension": ".py",
   "mimetype": "text/x-python",
   "name": "python",
   "nbconvert_exporter": "python",
   "pygments_lexer": "ipython3",
   "version": "3.6.5"
  }
 },
 "nbformat": 4,
 "nbformat_minor": 2
}
