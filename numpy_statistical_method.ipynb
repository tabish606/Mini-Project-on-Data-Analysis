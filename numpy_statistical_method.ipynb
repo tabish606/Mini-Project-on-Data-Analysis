{
 "cells": [
  {
   "cell_type": "markdown",
   "metadata": {},
   "source": [
    "# Statistical method ,Sorting and  Set operations"
   ]
  },
  {
   "cell_type": "markdown",
   "metadata": {},
   "source": [
    "## Statistical method"
   ]
  },
  {
   "cell_type": "markdown",
   "metadata": {},
   "source": [
    "### Random"
   ]
  },
  {
   "cell_type": "code",
   "execution_count": 9,
   "metadata": {},
   "outputs": [
    {
     "name": "stdout",
     "output_type": "stream",
     "text": [
      "[[-0.02882382  7.94811345  3.40075667 -1.72064973]\n",
      " [-8.8214561   2.55898907  9.10711923  4.44552122]]\n"
     ]
    }
   ],
   "source": [
    "# set up a random 2x4 matix\n",
    "import numpy as np\n",
    "arr =  10* np.random.randn(2,4) \n",
    "print(arr)"
   ]
  },
  {
   "cell_type": "markdown",
   "metadata": {},
   "source": [
    "### MEan"
   ]
  },
  {
   "cell_type": "code",
   "execution_count": 10,
   "metadata": {},
   "outputs": [
    {
     "name": "stdout",
     "output_type": "stream",
     "text": [
      "2.111196249782\n"
     ]
    }
   ],
   "source": [
    "#compute the mean of all elemnts\n",
    "print(arr.mean())"
   ]
  },
  {
   "cell_type": "code",
   "execution_count": 11,
   "metadata": {},
   "outputs": [
    {
     "name": "stdout",
     "output_type": "stream",
     "text": [
      "[2.39984914 1.82254336]\n"
     ]
    }
   ],
   "source": [
    "# compute the mean by row\n",
    "print(arr.mean(axis = 1))"
   ]
  },
  {
   "cell_type": "code",
   "execution_count": 12,
   "metadata": {},
   "outputs": [
    {
     "name": "stdout",
     "output_type": "stream",
     "text": [
      "[-4.42513996  5.25355126  6.25393795  1.36243575]\n"
     ]
    }
   ],
   "source": [
    "# compute the mean by column\n",
    "print(arr.mean(axis = 0))"
   ]
  },
  {
   "cell_type": "code",
   "execution_count": 13,
   "metadata": {},
   "outputs": [
    {
     "name": "stdout",
     "output_type": "stream",
     "text": [
      "16.889569998256\n"
     ]
    }
   ],
   "source": [
    "# sum of all elments\n",
    "print(arr.sum())"
   ]
  },
  {
   "cell_type": "code",
   "execution_count": 14,
   "metadata": {},
   "outputs": [
    {
     "name": "stdout",
     "output_type": "stream",
     "text": [
      "[1.68596642 3.50225515]\n"
     ]
    }
   ],
   "source": [
    "# compute the median by row\n",
    "print(np.median(arr, axis = 1))"
   ]
  },
  {
   "cell_type": "markdown",
   "metadata": {},
   "source": [
    "## Sorting"
   ]
  },
  {
   "cell_type": "code",
   "execution_count": 16,
   "metadata": {},
   "outputs": [
    {
     "name": "stdout",
     "output_type": "stream",
     "text": [
      "[ 1.06695995  0.06217221  0.02545481  1.56716272 -0.92683385 -1.7672885\n",
      "  0.37905581 -0.07265041  1.18697741 -0.95904091]\n"
     ]
    }
   ],
   "source": [
    "# Creat a unsorted matrix 1x10\n",
    "unsorted =  np.random.randn(10)\n",
    "print(unsorted)"
   ]
  },
  {
   "cell_type": "code",
   "execution_count": 20,
   "metadata": {},
   "outputs": [
    {
     "name": "stdout",
     "output_type": "stream",
     "text": [
      "[-1.7672885  -0.95904091 -0.92683385 -0.07265041  0.02545481  0.06217221\n",
      "  0.37905581  1.06695995  1.18697741  1.56716272]\n",
      "\n",
      "[ 1.06695995  0.06217221  0.02545481  1.56716272 -0.92683385 -1.7672885\n",
      "  0.37905581 -0.07265041  1.18697741 -0.95904091]\n"
     ]
    }
   ],
   "source": [
    "#creat a copy of sort matrix\n",
    "sorted =  np.array(unsorted)# it will creat a sorted array\n",
    "sorted.sort() # it will print sorted array\n",
    "print(sorted)\n",
    "print()\n",
    "print(unsorted)"
   ]
  },
  {
   "cell_type": "code",
   "execution_count": 21,
   "metadata": {},
   "outputs": [
    {
     "name": "stdout",
     "output_type": "stream",
     "text": [
      "[-1.7672885  -0.95904091 -0.92683385 -0.07265041  0.02545481  0.06217221\n",
      "  0.37905581  1.06695995  1.18697741  1.56716272]\n"
     ]
    }
   ],
   "source": [
    "# inplace sorting\n",
    "unsorted.sort()\n",
    "print(unsorted)"
   ]
  },
  {
   "cell_type": "markdown",
   "metadata": {},
   "source": [
    "## Finding unique elements"
   ]
  },
  {
   "cell_type": "code",
   "execution_count": 24,
   "metadata": {},
   "outputs": [
    {
     "name": "stdout",
     "output_type": "stream",
     "text": [
      "[1 2 3 4 6]\n"
     ]
    }
   ],
   "source": [
    "import numpy as np\n",
    "array = np.array([1,1,2,3,4,4,6,2,3,4])\n",
    "print(np.unique(array))"
   ]
  },
  {
   "cell_type": "markdown",
   "metadata": {},
   "source": [
    "## set oprtaion with np.array data type\n"
   ]
  },
  {
   "cell_type": "code",
   "execution_count": 25,
   "metadata": {},
   "outputs": [
    {
     "name": "stdout",
     "output_type": "stream",
     "text": [
      "['lion' 'cat' 'wolf' 'dog'] ['bear' 'tiger' 'dog' 'lion']\n"
     ]
    }
   ],
   "source": [
    "s1 =  np.array([\"lion\",\"cat\",'wolf',\"dog\"])\n",
    "s2 = np.array([\"bear\",\"tiger\",\"dog\",\"lion\"])\n",
    "print(s1,s2)"
   ]
  },
  {
   "cell_type": "code",
   "execution_count": 26,
   "metadata": {},
   "outputs": [
    {
     "name": "stdout",
     "output_type": "stream",
     "text": [
      "['dog' 'lion']\n"
     ]
    }
   ],
   "source": [
    "# to find the common elemnts\n",
    "print(np.intersect1d(s1,s2))"
   ]
  },
  {
   "cell_type": "code",
   "execution_count": 27,
   "metadata": {},
   "outputs": [
    {
     "name": "stdout",
     "output_type": "stream",
     "text": [
      "['bear' 'cat' 'dog' 'lion' 'tiger' 'wolf']\n"
     ]
    }
   ],
   "source": [
    "# find the union\n",
    "print(np.union1d(s1,s2))"
   ]
  },
  {
   "cell_type": "code",
   "execution_count": 30,
   "metadata": {},
   "outputs": [
    {
     "name": "stdout",
     "output_type": "stream",
     "text": [
      "['cat' 'wolf']\n",
      "['bear' 'tiger']\n"
     ]
    }
   ],
   "source": [
    "# find the difference\n",
    "print(np.setdiff1d(s1,s2))\n",
    "print(np.setdiff1d(s2,s1))"
   ]
  },
  {
   "cell_type": "code",
   "execution_count": 31,
   "metadata": {},
   "outputs": [
    {
     "name": "stdout",
     "output_type": "stream",
     "text": [
      "[ True False False  True]\n"
     ]
    }
   ],
   "source": [
    "#which elemnt of s1 in s2\n",
    "print(np.in1d(s1,s2))"
   ]
  },
  {
   "cell_type": "markdown",
   "metadata": {},
   "source": [
    "## "
   ]
  }
 ],
 "metadata": {
  "kernelspec": {
   "display_name": "Python 3",
   "language": "python",
   "name": "python3"
  },
  "language_info": {
   "codemirror_mode": {
    "name": "ipython",
    "version": 3
   },
   "file_extension": ".py",
   "mimetype": "text/x-python",
   "name": "python",
   "nbconvert_exporter": "python",
   "pygments_lexer": "ipython3",
   "version": "3.6.5"
  }
 },
 "nbformat": 4,
 "nbformat_minor": 2
}
