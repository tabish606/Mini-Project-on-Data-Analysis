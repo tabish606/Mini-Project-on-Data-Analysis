{
 "cells": [
  {
   "cell_type": "code",
   "execution_count": 6,
   "metadata": {},
   "outputs": [
    {
     "name": "stdout",
     "output_type": "stream",
     "text": [
      "2019-01-15\n",
      "8739 days, 0:00:00\n"
     ]
    }
   ],
   "source": [
    "import datetime\n",
    "d1 = datetime.date(1995,2,11)\n",
    "d2 = datetime.date.today()\n",
    "d3 = max(d1,d2)\n",
    "print(d3)\n",
    "print(d2-d1)\n",
    "\n"
   ]
  },
  {
   "cell_type": "code",
   "execution_count": 7,
   "metadata": {},
   "outputs": [
    {
     "name": "stdout",
     "output_type": "stream",
     "text": [
      "8739 days, 0:00:00\n"
     ]
    }
   ],
   "source": [
    "print(d2-d1)\n"
   ]
  },
  {
   "cell_type": "code",
   "execution_count": 8,
   "metadata": {},
   "outputs": [
    {
     "name": "stdout",
     "output_type": "stream",
     "text": [
      "14 days, 17:15:15.263374\n"
     ]
    }
   ],
   "source": [
    "import datetime\n",
    "d1 = datetime.datetime(2019,1,1,0,0,0)\n",
    "d2 = datetime.datetime.now()\n",
    "print(d2-d1)"
   ]
  },
  {
   "cell_type": "code",
   "execution_count": 17,
   "metadata": {},
   "outputs": [
    {
     "name": "stdout",
     "output_type": "stream",
     "text": [
      "todays date is 2019-01-16\n",
      "2\n"
     ]
    }
   ],
   "source": [
    "import datetime\n",
    "today = datetime.date.today()\n",
    "print(\"todays date is\",today)\n",
    "print(today.weekday())\n"
   ]
  },
  {
   "cell_type": "code",
   "execution_count": 26,
   "metadata": {},
   "outputs": [
    {
     "name": "stdout",
     "output_type": "stream",
     "text": [
      "Today's date and time is 2019-01-16 01:26:27.560054\n",
      "16\n"
     ]
    }
   ],
   "source": [
    "import datetime\n",
    "today_date_time = datetime.datetime.now()\n",
    "print(\"Today's date and time is\",today_date_time)\n",
    "now = datetime.datetime.now()\n",
    "print(now.strftime(\"%d\"))\n"
   ]
  },
  {
   "cell_type": "code",
   "execution_count": null,
   "metadata": {},
   "outputs": [],
   "source": []
  },
  {
   "cell_type": "code",
   "execution_count": null,
   "metadata": {},
   "outputs": [],
   "source": []
  },
  {
   "cell_type": "code",
   "execution_count": null,
   "metadata": {},
   "outputs": [],
   "source": []
  }
 ],
 "metadata": {
  "kernelspec": {
   "display_name": "Python 3",
   "language": "python",
   "name": "python3"
  },
  "language_info": {
   "codemirror_mode": {
    "name": "ipython",
    "version": 3
   },
   "file_extension": ".py",
   "mimetype": "text/x-python",
   "name": "python",
   "nbconvert_exporter": "python",
   "pygments_lexer": "ipython3",
   "version": "3.6.5"
  }
 },
 "nbformat": 4,
 "nbformat_minor": 2
}
