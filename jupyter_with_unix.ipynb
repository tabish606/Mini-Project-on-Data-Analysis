{
 "cells": [
  {
   "cell_type": "code",
   "execution_count": 8,
   "metadata": {},
   "outputs": [
    {
     "name": "stdout",
     "output_type": "stream",
     "text": [
      "tabish.txt\n",
      "tabish.txt\n"
     ]
    }
   ],
   "source": [
    "filename = 'tabish.txt'\n",
    "!echo $filename\n",
    "print(filename)"
   ]
  },
  {
   "cell_type": "code",
   "execution_count": 10,
   "metadata": {},
   "outputs": [
    {
     "name": "stderr",
     "output_type": "stream",
     "text": [
      "'head' is not recognized as an internal or external command,\n",
      "operable program or batch file.\n"
     ]
    }
   ],
   "source": [
    "!head -n 3 $filename"
   ]
  },
  {
   "cell_type": "code",
   "execution_count": 12,
   "metadata": {},
   "outputs": [
    {
     "name": "stdout",
     "output_type": "stream",
     "text": [
      "E:\\\n"
     ]
    }
   ],
   "source": [
    "cd E:/"
   ]
  },
  {
   "cell_type": "code",
   "execution_count": 13,
   "metadata": {},
   "outputs": [
    {
     "name": "stdout",
     "output_type": "stream",
     "text": [
      "E:\\pycharm\n"
     ]
    }
   ],
   "source": [
    "cd pycharm"
   ]
  },
  {
   "cell_type": "code",
   "execution_count": 14,
   "metadata": {},
   "outputs": [
    {
     "name": "stdout",
     "output_type": "stream",
     "text": [
      " Volume in drive E has no label.\n",
      " Volume Serial Number is 84B4-ECE5\n",
      "\n",
      " Directory of E:\\pycharm\n",
      "\n",
      "10/27/2018  01:14 AM    <DIR>          .\n",
      "10/27/2018  01:14 AM    <DIR>          ..\n",
      "10/05/2018  02:10 PM             1,475 addmatrix.py\n",
      "10/20/2018  03:20 PM               332 args.py\n",
      "10/22/2018  01:28 AM               554 args_as_a_argument.py\n",
      "10/24/2018  12:31 AM               274 args_exercise.py\n",
      "09/06/2018  01:27 AM               110 center.py\n",
      "10/19/2018  01:06 AM               442 comp_dict.py\n",
      "10/16/2018  03:30 PM               247 comp_exercise1.py\n",
      "10/15/2018  01:50 PM               665 comp_list.py\n",
      "10/17/2018  01:35 AM               337 comp_matrix.py.py\n",
      "10/16/2018  11:41 AM               239 comp_nestedlist.py\n",
      "10/13/2018  01:05 AM               141 cube_finder.py\n",
      "10/25/2018  01:06 AM               274 default_parameters.py\n",
      "10/06/2018  01:48 AM               512 diamond.py\n",
      "10/20/2018  01:30 AM               731 dict.py\n",
      "10/20/2018  03:10 PM               402 dict_exercise.py\n",
      "10/13/2018  11:54 PM               725 dict_item.py\n",
      "10/19/2018  02:56 PM               535 dict_practice.py\n",
      "10/12/2018  01:12 AM               321 dict_update.py\n",
      "08/28/2018  02:13 AM               214 divisblerange.py\n",
      "09/11/2018  01:32 AM               148 fact.py\n",
      "08/29/2018  01:00 AM               310 fibonacci.py\n",
      "09/06/2018  01:19 AM                79 findreplace.py\n",
      "09/07/2018  01:21 AM               183 forloop.py\n",
      "10/12/2018  02:02 AM               944 fromkeys_get_clear_in_dict.py\n",
      "09/11/2018  01:32 AM               213 funlargenum.py\n",
      "09/11/2018  01:09 AM                67 funlastchar.py\n",
      "09/11/2018  01:19 AM               121 funoddeven.py\n",
      "08/28/2018  02:02 AM               447 grade.py\n",
      "09/08/2018  01:41 AM               493 guess_number_game.py\n",
      "10/06/2018  08:09 PM               552 halfpyramid.py\n",
      "10/18/2018  12:51 PM               645 identity_matrix.py\n",
      "09/07/2018  01:06 AM                87 inkeyword.py\n",
      "09/06/2018  02:04 AM               274 khbd.py\n",
      "10/25/2018  12:57 AM               362 kwargs.py\n",
      "10/26/2018  12:56 AM               481 kwargs_exercise.py\n",
      "10/27/2018  01:32 AM               610 lamda.py\n",
      "10/16/2018  11:06 AM               365 lc_if.py\n",
      "09/21/2018  02:55 AM               373 list.py\n",
      "10/19/2018  12:40 AM               507 list_practice.py\n",
      "09/06/2018  01:13 AM               548 listfunction.py\n",
      "09/23/2018  12:38 AM               165 matrixadd.py\n",
      "08/29/2018  12:33 AM               104 oddeven.py\n",
      "09/23/2018  02:07 AM               287 oddevenlist.py\n",
      "08/29/2018  01:06 AM               201 palindrome.py\n",
      "10/25/2018  01:18 AM               544 parameters_order.py\n",
      "08/29/2018  12:45 AM               160 prime.py\n",
      "09/02/2018  02:13 AM               493 pyramid.py\n",
      "09/12/2018  05:25 PM               183 rev.py\n",
      "09/22/2018  02:48 AM               173 reverselist.py\n",
      "10/15/2018  12:58 PM               500 set.py\n",
      "09/21/2018  02:35 AM               182 splitjoin.py\n",
      "09/23/2018  02:16 AM               175 sublistcounter.py\n",
      "10/17/2018  12:17 PM               176 sum_of_list_element.py\n",
      "08/29/2018  12:50 AM                87 table.py\n",
      "09/11/2018  01:43 AM               336 threelarge.py\n",
      "09/08/2018  01:59 AM                90 totaldigit.py\n",
      "10/09/2018  01:53 AM                92 tuple.py\n",
      "09/16/2018  02:32 AM             1,780 Untitled.ipynb\n",
      "09/16/2018  02:18 AM                72 Untitled-Copy1.ipynb\n",
      "09/13/2018  02:19 AM               185 variablescope.py\n",
      "10/13/2018  01:19 AM               162 word_counter.py\n",
      "              61 File(s)         22,486 bytes\n",
      "               2 Dir(s)  134,441,947,136 bytes free\n"
     ]
    }
   ],
   "source": [
    "ls "
   ]
  },
  {
   "cell_type": "code",
   "execution_count": 19,
   "metadata": {},
   "outputs": [
    {
     "name": "stdout",
     "output_type": "stream",
     "text": [
      "addmatrix.py\n",
      "addmatrix.py\n"
     ]
    }
   ],
   "source": [
    "filename = 'addmatrix.py'\n",
    "!echo $filename\n",
    "print(filename)"
   ]
  },
  {
   "cell_type": "code",
   "execution_count": 22,
   "metadata": {},
   "outputs": [
    {
     "name": "stderr",
     "output_type": "stream",
     "text": [
      "'head' is not recognized as an internal or external command,\n",
      "operable program or batch file.\n"
     ]
    }
   ],
   "source": [
    "!head -n 3 $filename"
   ]
  },
  {
   "cell_type": "code",
   "execution_count": 25,
   "metadata": {},
   "outputs": [
    {
     "name": "stderr",
     "output_type": "stream",
     "text": [
      "'tail' is not recognized as an internal or external command,\n",
      "operable program or batch file.\n"
     ]
    }
   ],
   "source": [
    "!tail"
   ]
  },
  {
   "cell_type": "code",
   "execution_count": 27,
   "metadata": {},
   "outputs": [
    {
     "name": "stderr",
     "output_type": "stream",
     "text": [
      "Invalid switch - \"unix\".\n"
     ]
    }
   ],
   "source": [
    "ls ./unix"
   ]
  },
  {
   "cell_type": "code",
   "execution_count": 28,
   "metadata": {},
   "outputs": [
    {
     "name": "stderr",
     "output_type": "stream",
     "text": [
      "'wc' is not recognized as an internal or external command,\n",
      "operable program or batch file.\n"
     ]
    }
   ],
   "source": [
    "!wc"
   ]
  },
  {
   "cell_type": "code",
   "execution_count": 1,
   "metadata": {},
   "outputs": [
    {
     "data": {
      "text/plain": [
       "'C:\\\\Users\\\\Tabish'"
      ]
     },
     "execution_count": 1,
     "metadata": {},
     "output_type": "execute_result"
    }
   ],
   "source": [
    "pwd\n"
   ]
  },
  {
   "cell_type": "code",
   "execution_count": 2,
   "metadata": {},
   "outputs": [
    {
     "name": "stdout",
     "output_type": "stream",
     "text": [
      "e:\\\n"
     ]
    }
   ],
   "source": [
    "cd e:/"
   ]
  },
  {
   "cell_type": "code",
   "execution_count": 3,
   "metadata": {},
   "outputs": [
    {
     "data": {
      "text/plain": [
       "'e:\\\\'"
      ]
     },
     "execution_count": 3,
     "metadata": {},
     "output_type": "execute_result"
    }
   ],
   "source": [
    "pwd\n"
   ]
  },
  {
   "cell_type": "code",
   "execution_count": 5,
   "metadata": {},
   "outputs": [
    {
     "name": "stderr",
     "output_type": "stream",
     "text": [
      "'head' is not recognized as an internal or external command,\n",
      "operable program or batch file.\n"
     ]
    }
   ],
   "source": [
    "!head -3 abc.txt"
   ]
  },
  {
   "cell_type": "code",
   "execution_count": 6,
   "metadata": {},
   "outputs": [
    {
     "name": "stderr",
     "output_type": "stream",
     "text": [
      "'wc' is not recognized as an internal or external command,\n",
      "operable program or batch file.\n"
     ]
    }
   ],
   "source": [
    "!wc -l abc.txt"
   ]
  },
  {
   "cell_type": "code",
   "execution_count": 7,
   "metadata": {},
   "outputs": [
    {
     "name": "stdout",
     "output_type": "stream",
     "text": [
      "2019-01-15\n"
     ]
    }
   ],
   "source": [
    "import datetime\n",
    "d1 = datetime.date(1995,2,11)\n",
    "d2 = datetime.date(2019,1,15)\n",
    "d3 = max(d1,d2)\n",
    "print(d3)"
   ]
  },
  {
   "cell_type": "code",
   "execution_count": null,
   "metadata": {},
   "outputs": [],
   "source": []
  }
 ],
 "metadata": {
  "kernelspec": {
   "display_name": "Python 3",
   "language": "python",
   "name": "python3"
  },
  "language_info": {
   "codemirror_mode": {
    "name": "ipython",
    "version": 3
   },
   "file_extension": ".py",
   "mimetype": "text/x-python",
   "name": "python",
   "nbconvert_exporter": "python",
   "pygments_lexer": "ipython3",
   "version": "3.6.5"
  }
 },
 "nbformat": 4,
 "nbformat_minor": 2
}
